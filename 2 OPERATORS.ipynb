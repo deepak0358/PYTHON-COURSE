{
 "cells": [
  {
   "cell_type": "markdown",
   "id": "8da64b4a",
   "metadata": {},
   "source": [
    "# OPERATORS\n",
    "types 1.unary\n",
    "      2.binary\n",
    "      3.ternary"
   ]
  },
  {
   "cell_type": "code",
   "execution_count": 1,
   "id": "f2b864a6",
   "metadata": {},
   "outputs": [],
   "source": [
    "a=10 \n",
    "b=25"
   ]
  },
  {
   "cell_type": "code",
   "execution_count": 2,
   "id": "9e2cb5c6",
   "metadata": {},
   "outputs": [
    {
     "data": {
      "text/plain": [
       "35"
      ]
     },
     "execution_count": 2,
     "metadata": {},
     "output_type": "execute_result"
    }
   ],
   "source": [
    "a+b"
   ]
  },
  {
   "cell_type": "code",
   "execution_count": 3,
   "id": "02a82524",
   "metadata": {},
   "outputs": [
    {
     "data": {
      "text/plain": [
       "-15"
      ]
     },
     "execution_count": 3,
     "metadata": {},
     "output_type": "execute_result"
    }
   ],
   "source": [
    "a-b"
   ]
  },
  {
   "cell_type": "code",
   "execution_count": 4,
   "id": "6b3771fc",
   "metadata": {},
   "outputs": [
    {
     "ename": "SyntaxError",
     "evalue": "invalid syntax (<ipython-input-4-22e3d6dc1353>, line 1)",
     "output_type": "error",
     "traceback": [
      "\u001b[1;36m  File \u001b[1;32m\"<ipython-input-4-22e3d6dc1353>\"\u001b[1;36m, line \u001b[1;32m1\u001b[0m\n\u001b[1;33m    a++\u001b[0m\n\u001b[1;37m       ^\u001b[0m\n\u001b[1;31mSyntaxError\u001b[0m\u001b[1;31m:\u001b[0m invalid syntax\n"
     ]
    }
   ],
   "source": [
    "a++"
   ]
  },
  {
   "cell_type": "code",
   "execution_count": 7,
   "id": "9c9f49ae",
   "metadata": {},
   "outputs": [],
   "source": [
    "a=a+1"
   ]
  },
  {
   "cell_type": "code",
   "execution_count": 8,
   "id": "19fb3006",
   "metadata": {},
   "outputs": [
    {
     "data": {
      "text/plain": [
       "12"
      ]
     },
     "execution_count": 8,
     "metadata": {},
     "output_type": "execute_result"
    }
   ],
   "source": [
    "a"
   ]
  },
  {
   "cell_type": "markdown",
   "id": "8dc65468",
   "metadata": {},
   "source": [
    "## 2.BINARY operators\n",
    "      types 1.arithmetic\n",
    "            2.logical\n",
    "            3.bitwise\n",
    "            4.relation\n",
    "            5.assignment\n",
    "            6.membership\n",
    "            7.identity"
   ]
  },
  {
   "cell_type": "markdown",
   "id": "b8ac55b5",
   "metadata": {},
   "source": [
    "     ## 1. ARITHMETIC OPERATORS"
   ]
  },
  {
   "cell_type": "code",
   "execution_count": 9,
   "id": "0a58d97c",
   "metadata": {},
   "outputs": [],
   "source": [
    "## 1.ARITHMETIC\n",
    "a=5\n",
    "b=10"
   ]
  },
  {
   "cell_type": "code",
   "execution_count": 10,
   "id": "9ead09a6",
   "metadata": {},
   "outputs": [
    {
     "data": {
      "text/plain": [
       "15"
      ]
     },
     "execution_count": 10,
     "metadata": {},
     "output_type": "execute_result"
    }
   ],
   "source": [
    "a+b"
   ]
  },
  {
   "cell_type": "code",
   "execution_count": 11,
   "id": "5747e353",
   "metadata": {},
   "outputs": [
    {
     "data": {
      "text/plain": [
       "-5"
      ]
     },
     "execution_count": 11,
     "metadata": {},
     "output_type": "execute_result"
    }
   ],
   "source": [
    "a-b"
   ]
  },
  {
   "cell_type": "code",
   "execution_count": 12,
   "id": "6d835ddb",
   "metadata": {},
   "outputs": [
    {
     "data": {
      "text/plain": [
       "50"
      ]
     },
     "execution_count": 12,
     "metadata": {},
     "output_type": "execute_result"
    }
   ],
   "source": [
    "a*b"
   ]
  },
  {
   "cell_type": "code",
   "execution_count": 13,
   "id": "c3f8d35a",
   "metadata": {},
   "outputs": [
    {
     "data": {
      "text/plain": [
       "5"
      ]
     },
     "execution_count": 13,
     "metadata": {},
     "output_type": "execute_result"
    }
   ],
   "source": [
    "a%b"
   ]
  },
  {
   "cell_type": "code",
   "execution_count": 14,
   "id": "3f636d6d",
   "metadata": {},
   "outputs": [
    {
     "data": {
      "text/plain": [
       "0"
      ]
     },
     "execution_count": 14,
     "metadata": {},
     "output_type": "execute_result"
    }
   ],
   "source": [
    "a//b"
   ]
  },
  {
   "cell_type": "code",
   "execution_count": 15,
   "id": "4d72038e",
   "metadata": {},
   "outputs": [
    {
     "data": {
      "text/plain": [
       "0.5"
      ]
     },
     "execution_count": 15,
     "metadata": {},
     "output_type": "execute_result"
    }
   ],
   "source": [
    "a/b"
   ]
  },
  {
   "cell_type": "code",
   "execution_count": 16,
   "id": "62390482",
   "metadata": {},
   "outputs": [
    {
     "data": {
      "text/plain": [
       "9765625"
      ]
     },
     "execution_count": 16,
     "metadata": {},
     "output_type": "execute_result"
    }
   ],
   "source": [
    "a**b"
   ]
  },
  {
   "cell_type": "markdown",
   "id": "41b48bbd",
   "metadata": {},
   "source": [
    "    ## 2.LOGICAL operators [1.and  2.or  3.not]\n",
    "    \n",
    "    1. \"and\" \n",
    "    "
   ]
  },
  {
   "cell_type": "code",
   "execution_count": 2,
   "id": "b8e88e12",
   "metadata": {},
   "outputs": [
    {
     "data": {
      "text/plain": [
       "36.25"
      ]
     },
     "execution_count": 2,
     "metadata": {},
     "output_type": "execute_result"
    }
   ],
   "source": [
    "## in \"and\" operator if both values are true(means other than zero) than second value will be result\n",
    "25.68 and 36.25"
   ]
  },
  {
   "cell_type": "code",
   "execution_count": 4,
   "id": "cae6f08d",
   "metadata": {},
   "outputs": [
    {
     "data": {
      "text/plain": [
       "'string1'"
      ]
     },
     "execution_count": 4,
     "metadata": {},
     "output_type": "execute_result"
    }
   ],
   "source": [
    "\"free\" and \"string1\""
   ]
  },
  {
   "cell_type": "code",
   "execution_count": 6,
   "id": "2252e088",
   "metadata": {},
   "outputs": [
    {
     "data": {
      "text/plain": [
       "False"
      ]
     },
     "execution_count": 6,
     "metadata": {},
     "output_type": "execute_result"
    }
   ],
   "source": [
    "## in \"and\" if any values of those is false(means zero(o)) than result false\n",
    "False and 25.38"
   ]
  },
  {
   "cell_type": "code",
   "execution_count": 8,
   "id": "42e24ce2",
   "metadata": {},
   "outputs": [
    {
     "data": {
      "text/plain": [
       "0"
      ]
     },
     "execution_count": 8,
     "metadata": {},
     "output_type": "execute_result"
    }
   ],
   "source": [
    "0 and 78.698"
   ]
  },
  {
   "cell_type": "markdown",
   "id": "0671b85f",
   "metadata": {},
   "source": [
    "       2.\"or\""
   ]
  },
  {
   "cell_type": "code",
   "execution_count": 9,
   "id": "f350b02a",
   "metadata": {},
   "outputs": [
    {
     "data": {
      "text/plain": [
       "89.25"
      ]
     },
     "execution_count": 9,
     "metadata": {},
     "output_type": "execute_result"
    }
   ],
   "source": [
    "## in \"or\" operator if both values are true(means non zero) than first value is the result\n",
    "89.25 or \"deepak\""
   ]
  },
  {
   "cell_type": "code",
   "execution_count": 10,
   "id": "8f7633bc",
   "metadata": {},
   "outputs": [
    {
     "data": {
      "text/plain": [
       "'dee'"
      ]
     },
     "execution_count": 10,
     "metadata": {},
     "output_type": "execute_result"
    }
   ],
   "source": [
    "\"dee\" or 89036"
   ]
  },
  {
   "cell_type": "code",
   "execution_count": 12,
   "id": "39ab0b6a",
   "metadata": {},
   "outputs": [
    {
     "data": {
      "text/plain": [
       "25.36"
      ]
     },
     "execution_count": 12,
     "metadata": {},
     "output_type": "execute_result"
    }
   ],
   "source": [
    "##if one value is true and other value is false than it show the true\n",
    "0 or 25.36"
   ]
  },
  {
   "cell_type": "code",
   "execution_count": 13,
   "id": "1c96c117",
   "metadata": {},
   "outputs": [
    {
     "data": {
      "text/plain": [
       "25.25"
      ]
     },
     "execution_count": 13,
     "metadata": {},
     "output_type": "execute_result"
    }
   ],
   "source": [
    "25.25 or 0"
   ]
  },
  {
   "cell_type": "code",
   "execution_count": 14,
   "id": "e777effb",
   "metadata": {},
   "outputs": [
    {
     "data": {
      "text/plain": [
       "True"
      ]
     },
     "execution_count": 14,
     "metadata": {},
     "output_type": "execute_result"
    }
   ],
   "source": [
    "False or True"
   ]
  },
  {
   "cell_type": "code",
   "execution_count": 15,
   "id": "b4c2d90e",
   "metadata": {},
   "outputs": [
    {
     "data": {
      "text/plain": [
       "0"
      ]
     },
     "execution_count": 15,
     "metadata": {},
     "output_type": "execute_result"
    }
   ],
   "source": [
    "## if the both the are false than it will show the false\n",
    "0 or 0"
   ]
  },
  {
   "cell_type": "code",
   "execution_count": 16,
   "id": "ad426efb",
   "metadata": {},
   "outputs": [
    {
     "name": "stdout",
     "output_type": "stream",
     "text": [
      "False\n"
     ]
    }
   ],
   "source": [
    "print(False or False)"
   ]
  },
  {
   "cell_type": "markdown",
   "id": "62f2e839",
   "metadata": {},
   "source": [
    "      3. not"
   ]
  },
  {
   "cell_type": "code",
   "execution_count": 17,
   "id": "d80b5776",
   "metadata": {},
   "outputs": [
    {
     "data": {
      "text/plain": [
       "False"
      ]
     },
     "execution_count": 17,
     "metadata": {},
     "output_type": "execute_result"
    }
   ],
   "source": [
    "not 10"
   ]
  },
  {
   "cell_type": "code",
   "execution_count": 19,
   "id": "6b96d287",
   "metadata": {},
   "outputs": [
    {
     "ename": "SyntaxError",
     "evalue": "invalid syntax (<ipython-input-19-57fac13da66c>, line 1)",
     "output_type": "error",
     "traceback": [
      "\u001b[1;36m  File \u001b[1;32m\"<ipython-input-19-57fac13da66c>\"\u001b[1;36m, line \u001b[1;32m1\u001b[0m\n\u001b[1;33m    40 not 25\u001b[0m\n\u001b[1;37m           ^\u001b[0m\n\u001b[1;31mSyntaxError\u001b[0m\u001b[1;31m:\u001b[0m invalid syntax\n"
     ]
    }
   ],
   "source": [
    "40 not 25"
   ]
  },
  {
   "cell_type": "markdown",
   "id": "153f4c6a",
   "metadata": {},
   "source": [
    "     ## 3.BITWISE operator\n",
    "         ''' it convert given integer into binary form'''\n",
    "          types 1.bitwise AND(&)\n",
    "                2.OR(!)\n",
    "                3.XOR(^)\n",
    "                4.complement(~)\n",
    "                5.left shift(<<)\n",
    "                6.right shift(>>)\n",
    "            1.bitwise AND(&)"
   ]
  },
  {
   "cell_type": "code",
   "execution_count": 22,
   "id": "84e2e31f",
   "metadata": {},
   "outputs": [
    {
     "data": {
      "text/plain": [
       "10"
      ]
     },
     "execution_count": 22,
     "metadata": {},
     "output_type": "execute_result"
    }
   ],
   "source": [
    "(10&10)"
   ]
  },
  {
   "cell_type": "markdown",
   "id": "c747d512",
   "metadata": {},
   "source": [
    "       ## 4.RELATIONAL operator\n",
    "         '''to compare the values and gives result True or False'''\n",
    "           1.<(leesthan)\n",
    "           2.<=(lessthan or equal) \n",
    "           3.>(greaterthan)\n",
    "           4.>=(greaterthan or equal)\n",
    "           5.==(equal)\n",
    "           6.!=(not equal)"
   ]
  },
  {
   "cell_type": "code",
   "execution_count": 23,
   "id": "73d28068",
   "metadata": {},
   "outputs": [],
   "source": [
    "a=25\n",
    "b=35"
   ]
  },
  {
   "cell_type": "code",
   "execution_count": 24,
   "id": "9d162cf1",
   "metadata": {},
   "outputs": [
    {
     "data": {
      "text/plain": [
       "True"
      ]
     },
     "execution_count": 24,
     "metadata": {},
     "output_type": "execute_result"
    }
   ],
   "source": [
    "a<b"
   ]
  },
  {
   "cell_type": "code",
   "execution_count": 25,
   "id": "329752b2",
   "metadata": {},
   "outputs": [
    {
     "data": {
      "text/plain": [
       "True"
      ]
     },
     "execution_count": 25,
     "metadata": {},
     "output_type": "execute_result"
    }
   ],
   "source": [
    "a<=b"
   ]
  },
  {
   "cell_type": "code",
   "execution_count": 26,
   "id": "0b279ca0",
   "metadata": {},
   "outputs": [
    {
     "data": {
      "text/plain": [
       "False"
      ]
     },
     "execution_count": 26,
     "metadata": {},
     "output_type": "execute_result"
    }
   ],
   "source": [
    "a>b"
   ]
  },
  {
   "cell_type": "code",
   "execution_count": 27,
   "id": "a1413c02",
   "metadata": {},
   "outputs": [
    {
     "data": {
      "text/plain": [
       "False"
      ]
     },
     "execution_count": 27,
     "metadata": {},
     "output_type": "execute_result"
    }
   ],
   "source": [
    "a>=b"
   ]
  },
  {
   "cell_type": "code",
   "execution_count": 28,
   "id": "4c2b3fd7",
   "metadata": {},
   "outputs": [
    {
     "data": {
      "text/plain": [
       "False"
      ]
     },
     "execution_count": 28,
     "metadata": {},
     "output_type": "execute_result"
    }
   ],
   "source": [
    "a==b"
   ]
  },
  {
   "cell_type": "code",
   "execution_count": 29,
   "id": "a9778549",
   "metadata": {},
   "outputs": [
    {
     "data": {
      "text/plain": [
       "True"
      ]
     },
     "execution_count": 29,
     "metadata": {},
     "output_type": "execute_result"
    }
   ],
   "source": [
    "a!=b"
   ]
  },
  {
   "cell_type": "markdown",
   "id": "4c14f608",
   "metadata": {},
   "source": [
    "     ## 5.ASSIGNMENT operator(\"=\"symbol)\n",
    "     '''a=10 in the left value a(always variable) right value (value, variable, address)'''\n",
    "         \"a+=10 equal to a=a+10\""
   ]
  },
  {
   "cell_type": "code",
   "execution_count": 6,
   "id": "40e4a8cb",
   "metadata": {},
   "outputs": [
    {
     "data": {
      "text/plain": [
       "20"
      ]
     },
     "execution_count": 6,
     "metadata": {},
     "output_type": "execute_result"
    }
   ],
   "source": [
    "a=10\n",
    "a+=10\n",
    "a"
   ]
  },
  {
   "cell_type": "code",
   "execution_count": 8,
   "id": "db17c1bb",
   "metadata": {},
   "outputs": [
    {
     "data": {
      "text/plain": [
       "3"
      ]
     },
     "execution_count": 8,
     "metadata": {},
     "output_type": "execute_result"
    }
   ],
   "source": [
    "a=10\n",
    "a-=7\n",
    "a"
   ]
  },
  {
   "cell_type": "code",
   "execution_count": 9,
   "id": "926a134f",
   "metadata": {},
   "outputs": [
    {
     "data": {
      "text/plain": [
       "5.0"
      ]
     },
     "execution_count": 9,
     "metadata": {},
     "output_type": "execute_result"
    }
   ],
   "source": [
    "a=10\n",
    "a/=2\n",
    "a"
   ]
  },
  {
   "cell_type": "code",
   "execution_count": 10,
   "id": "c08f1870",
   "metadata": {},
   "outputs": [
    {
     "data": {
      "text/plain": [
       "4"
      ]
     },
     "execution_count": 10,
     "metadata": {},
     "output_type": "execute_result"
    }
   ],
   "source": [
    "a=30\n",
    "a//=7\n",
    "a"
   ]
  },
  {
   "cell_type": "code",
   "execution_count": 11,
   "id": "890aff99",
   "metadata": {},
   "outputs": [
    {
     "data": {
      "text/plain": [
       "2"
      ]
     },
     "execution_count": 11,
     "metadata": {},
     "output_type": "execute_result"
    }
   ],
   "source": [
    "a=56\n",
    "a%=6\n",
    "a"
   ]
  },
  {
   "cell_type": "markdown",
   "id": "a088e25f",
   "metadata": {},
   "source": [
    "     ## 6.MEMBERSHIP operator(\"in\", \"not in\" are used)\n",
    "     '''used for value is present in the statement'''\n",
    "           1.\"in\""
   ]
  },
  {
   "cell_type": "code",
   "execution_count": 2,
   "id": "8709320c",
   "metadata": {},
   "outputs": [
    {
     "name": "stdout",
     "output_type": "stream",
     "text": [
      "True\n"
     ]
    }
   ],
   "source": [
    "s=\"hello sir good morning\"\n",
    "print ( \"good\" in s)"
   ]
  },
  {
   "cell_type": "code",
   "execution_count": 3,
   "id": "701f20db",
   "metadata": {},
   "outputs": [
    {
     "name": "stdout",
     "output_type": "stream",
     "text": [
      "True\n"
     ]
    }
   ],
   "source": [
    "print(\"g\" in s)"
   ]
  },
  {
   "cell_type": "code",
   "execution_count": 4,
   "id": "56204547",
   "metadata": {},
   "outputs": [
    {
     "name": "stdout",
     "output_type": "stream",
     "text": [
      "False\n"
     ]
    }
   ],
   "source": [
    "print(\"Hello\" in s)"
   ]
  },
  {
   "cell_type": "markdown",
   "id": "23e7823b",
   "metadata": {},
   "source": [
    "       2.\"not in\""
   ]
  },
  {
   "cell_type": "code",
   "execution_count": 5,
   "id": "6271dc93",
   "metadata": {},
   "outputs": [
    {
     "name": "stdout",
     "output_type": "stream",
     "text": [
      "True\n"
     ]
    }
   ],
   "source": [
    "l=[10,20,30,42,58,68,45,47,59]\n",
    "print(35 not in l)"
   ]
  },
  {
   "cell_type": "code",
   "execution_count": 6,
   "id": "3b828d1c",
   "metadata": {},
   "outputs": [
    {
     "name": "stdout",
     "output_type": "stream",
     "text": [
      "False\n"
     ]
    }
   ],
   "source": [
    "print(58 not in l)"
   ]
  },
  {
   "cell_type": "markdown",
   "id": "eed9ff5e",
   "metadata": {},
   "source": [
    "     ## 7.IDENTITY operator\n",
    "     '''identity operator check the two different variables address the same location'''\n",
    "     '''when we use the equal(==)it will check the value\n",
    "          1.in"
   ]
  },
  {
   "cell_type": "code",
   "execution_count": 1,
   "id": "213238d2",
   "metadata": {},
   "outputs": [
    {
     "name": "stdout",
     "output_type": "stream",
     "text": [
      "True\n"
     ]
    }
   ],
   "source": [
    "s=\"heelllooo\"\n",
    "s1=\"heelllooo\"\n",
    "print(s is s1)"
   ]
  },
  {
   "cell_type": "code",
   "execution_count": 4,
   "id": "68b27863",
   "metadata": {},
   "outputs": [
    {
     "name": "stdout",
     "output_type": "stream",
     "text": [
      "False\n"
     ]
    }
   ],
   "source": [
    "s2=\"heelllooo\"\n",
    "s3=\"heelllo\"\n",
    "print(s is s1)"
   ]
  },
  {
   "cell_type": "markdown",
   "id": "15aef8ff",
   "metadata": {},
   "source": [
    "     2.is not"
   ]
  },
  {
   "cell_type": "code",
   "execution_count": 6,
   "id": "b7368e26",
   "metadata": {},
   "outputs": [
    {
     "name": "stdout",
     "output_type": "stream",
     "text": [
      "False\n"
     ]
    }
   ],
   "source": [
    "s=\"heelllooo\"\n",
    "s1=\"heelllooo\"\n",
    "print(s is not s1)"
   ]
  },
  {
   "cell_type": "code",
   "execution_count": 7,
   "id": "8236a889",
   "metadata": {},
   "outputs": [
    {
     "name": "stdout",
     "output_type": "stream",
     "text": [
      "True\n"
     ]
    }
   ],
   "source": [
    "s=\"heelllooo\"\n",
    "s1=\"heelooo\"\n",
    "print(s is not s1)"
   ]
  },
  {
   "cell_type": "markdown",
   "id": "6d2cb6e1",
   "metadata": {},
   "source": [
    "# 3.TERNARY operator\n",
    "   syntax:'''x=first value  if condition else seecond value'''"
   ]
  },
  {
   "cell_type": "code",
   "execution_count": 9,
   "id": "b583a2a3",
   "metadata": {},
   "outputs": [
    {
     "name": "stdout",
     "output_type": "stream",
     "text": [
      "20\n"
     ]
    }
   ],
   "source": [
    "a=10\n",
    "b=20\n",
    "x=b if b>a else a\n",
    "print(x)"
   ]
  },
  {
   "cell_type": "code",
   "execution_count": 16,
   "id": "dad9f199",
   "metadata": {},
   "outputs": [
    {
     "name": "stdout",
     "output_type": "stream",
     "text": [
      "30\n"
     ]
    }
   ],
   "source": [
    "a=30\n",
    "b=25\n",
    "x=b if a<b else a\n",
    "print(x)"
   ]
  },
  {
   "cell_type": "code",
   "execution_count": null,
   "id": "99a71b17",
   "metadata": {},
   "outputs": [],
   "source": []
  },
  {
   "cell_type": "code",
   "execution_count": null,
   "id": "fedf34bc",
   "metadata": {},
   "outputs": [],
   "source": []
  },
  {
   "cell_type": "code",
   "execution_count": null,
   "id": "ba1fdcc8",
   "metadata": {},
   "outputs": [],
   "source": []
  },
  {
   "cell_type": "code",
   "execution_count": null,
   "id": "fe65ea84",
   "metadata": {},
   "outputs": [],
   "source": []
  }
 ],
 "metadata": {
  "kernelspec": {
   "display_name": "Python 3",
   "language": "python",
   "name": "python3"
  },
  "language_info": {
   "codemirror_mode": {
    "name": "ipython",
    "version": 3
   },
   "file_extension": ".py",
   "mimetype": "text/x-python",
   "name": "python",
   "nbconvert_exporter": "python",
   "pygments_lexer": "ipython3",
   "version": "3.8.8"
  }
 },
 "nbformat": 4,
 "nbformat_minor": 5
}

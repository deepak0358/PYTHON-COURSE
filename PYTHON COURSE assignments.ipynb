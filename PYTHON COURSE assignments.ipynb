{
 "cells": [
  {
   "cell_type": "markdown",
   "id": "b72e24a8",
   "metadata": {},
   "source": [
    "   1.ASSIGNMENT"
   ]
  },
  {
   "cell_type": "code",
   "execution_count": 3,
   "id": "4e6e5f3c",
   "metadata": {},
   "outputs": [
    {
     "name": "stdout",
     "output_type": "stream",
     "text": [
      "259\n",
      "number is odd\n"
     ]
    }
   ],
   "source": [
    "##(29-9-2021)\n",
    "a=int(input())\n",
    "if a%2==0 :\n",
    "    print(\"number is even\")\n",
    "else:\n",
    "    print(\"number is odd\")"
   ]
  },
  {
   "cell_type": "code",
   "execution_count": 1,
   "id": "01fd3d84",
   "metadata": {},
   "outputs": [
    {
     "name": "stdout",
     "output_type": "stream",
     "text": [
      "18\n",
      "you are eligible to cast the vote\n"
     ]
    }
   ],
   "source": [
    "age=int(input())\n",
    "if age>=18:\n",
    "    print(\"you are eligible to cast the vote\")\n",
    "else:\n",
    "    print(\"you are not eligible to cast the vote\")"
   ]
  },
  {
   "cell_type": "markdown",
   "id": "b22f3241",
   "metadata": {},
   "source": [
    "   2.ASSIGNMENT"
   ]
  },
  {
   "cell_type": "code",
   "execution_count": 4,
   "id": "be559194",
   "metadata": {},
   "outputs": [
    {
     "name": "stdout",
     "output_type": "stream",
     "text": [
      "welcome to XYZ bank please incert your card\n",
      "checking card: 123abc45\n",
      "enter your pin4567\n",
      "cash withdraw\n",
      "balance enquire\n",
      "change language\n",
      "atm pin change\n",
      "you are choose the cash withdrawl\n",
      "enter the amount: 40000\n",
      "your daily limit exceeds\n"
     ]
    }
   ],
   "source": [
    "### write a program to check the ATM mission cash withdrawl process(30-9-2021)\n",
    "print(\"welcome to XYZ bank please incert your card\")\n",
    "card=input(\"checking card: \")\n",
    "if card==\"123abc45\" :\n",
    "    pin=int(input(\"enter your pin\"))\n",
    "    if pin==4567:\n",
    "        print(\"cash withdraw\")\n",
    "        print(\"balance enquire\")\n",
    "        print(\"change language\")\n",
    "        print(\"atm pin change\")\n",
    "        print(\"you are choose the cash withdrawl\")\n",
    "        amount=int(input(\"enter the amount: \"))\n",
    "        if amount<=20000:\n",
    "            print(\"transanction processing\")\n",
    "            print(\"please collect your amount\")\n",
    "            print(\"thank you\")\n",
    "        else:\n",
    "            print(\"your daily limit exceeds\")\n",
    "    else:\n",
    "        print(\"you entered wrong, pin try again\")\n",
    "else:\n",
    "    print(\"please incert the correct card\")\n",
    "            \n",
    "    \n"
   ]
  },
  {
   "cell_type": "code",
   "execution_count": 11,
   "id": "77ce475a",
   "metadata": {},
   "outputs": [
    {
     "name": "stdout",
     "output_type": "stream",
     "text": [
      "enter pin:4567\n",
      "welcome to YTR bank\n",
      "1.withdraw 2.balance 3.pin change 4.deposite\n",
      "choose the above: 3\n",
      "enter old pin: 4567\n",
      "enter new pin: 5678\n",
      "pin changed:  5678\n"
     ]
    }
   ],
   "source": [
    "bala=50000\n",
    "upin=int(input(\"enter pin:\" ))\n",
    "pin=4567\n",
    "if upin==pin:\n",
    "    print(\"welcome to YTR bank\")\n",
    "    print(\"1.withdraw 2.balance 3.pin change 4.deposite\")\n",
    "    opt=int(input(\"choose the above: \"))\n",
    "    if opt==1:\n",
    "        amount=int(input(\"enter amount: \"))\n",
    "        if amount<=bala:\n",
    "            bala=bala-amount\n",
    "            print(\"remaining balance: \",bala)\n",
    "        else:\n",
    "            print(\"not sufficient balance\")\n",
    "    elif opt==2:\n",
    "        print(\"your balance :\",bala)\n",
    "    elif opt==3:\n",
    "        oldpin=int(input(\"enter old pin: \"))\n",
    "        if oldpin==pin:\n",
    "            newpin=int(input(\"enter new pin: \"))\n",
    "            pin=newpin\n",
    "            print(\"pin changed: \",pin)\n",
    "        else:\n",
    "            print(\"enter wrong pin\")\n",
    "    elif opt==4:\n",
    "        amount=int(input(\"enter the money: \"))\n",
    "        bala=bala+amount\n",
    "        print(\"updated balance \",bala)\n",
    "    else:\n",
    "        print(\"wrong option\")\n",
    "else:\n",
    "    print(\"wrong pin try again\")\n",
    "        \n",
    "            \n",
    "        "
   ]
  },
  {
   "cell_type": "code",
   "execution_count": 88,
   "id": "283ab2cf",
   "metadata": {},
   "outputs": [
    {
     "name": "stdout",
     "output_type": "stream",
     "text": [
      "please enter pin: 4567\n",
      "1.cash withdraw 2.pin change 3.balance enquire 4.balance deposite\n",
      "choose your option: 1\n",
      "enter your amount: 4500\n",
      "please collect to your amount\n",
      "remaining balance:  45500\n"
     ]
    }
   ],
   "source": [
    "cash=50000\n",
    "upin=int(input(\"please enter pin: \"))\n",
    "if upin==4567:\n",
    "    print(\"1.cash withdraw 2.pin change 3.balance enquire 4.balance deposite\")\n",
    "    op=int(input(\"choose your option: \"))\n",
    "    if op==1:\n",
    "        amount=int(input(\"enter your amount: \"))\n",
    "        if amount<=50000:\n",
    "            if amount%100==0:\n",
    "                amount=cash-amount\n",
    "                print(\"please collect to your amount\")\n",
    "                print(\"remaining balance: \", amount)\n",
    "            else:\n",
    "                print(\"please type multiples of 500\")\n",
    "        else: \n",
    "            print(\"your balance is not sufficient\")\n",
    "    elif op==2:\n",
    "        oldpin=int(input(\"enter your old pin: \"))\n",
    "        if oldpin==upin:\n",
    "            newpin=int(input(\"enter new pin: \"))\n",
    "            print(\"your pin changed \", newpin)\n",
    "        else:\n",
    "            print(\"you entered wrong pin\")\n",
    "    elif op==3:\n",
    "        print(\"your balance is \",cash)\n",
    "    elif op==4:\n",
    "        amount1=int(input(\"enter amount to be deposited: \"))\n",
    "        amount=cash+amount1\n",
    "        print(\"updated balance\",amount)\n",
    "    else:\n",
    "        print(\"you choosen wrong option\")\n",
    "else:\n",
    "    print(\"you entered wrong pin\")\n",
    "        "
   ]
  },
  {
   "cell_type": "markdown",
   "id": "1a633ba5",
   "metadata": {},
   "source": [
    "  3.ASSIGNMENT"
   ]
  },
  {
   "cell_type": "code",
   "execution_count": 2,
   "id": "559dc14c",
   "metadata": {},
   "outputs": [
    {
     "name": "stdout",
     "output_type": "stream",
     "text": [
      "2 4 6 8 10 12 14 16 18 20 "
     ]
    }
   ],
   "source": [
    "##program to print the even numbers b/w (1,20)[1-10-2021]\n",
    "for x in range(2,21,2):\n",
    "    print(x,end=\" \")\n",
    "\n",
    "    "
   ]
  },
  {
   "cell_type": "code",
   "execution_count": 46,
   "id": "b027da6a",
   "metadata": {},
   "outputs": [
    {
     "name": "stdout",
     "output_type": "stream",
     "text": [
      "even number:  2\n",
      "odd number\n",
      "even number:  4\n",
      "odd number\n",
      "even number:  6\n",
      "odd number\n",
      "even number:  8\n",
      "odd number\n",
      "even number:  10\n",
      "odd number\n",
      "even number:  12\n",
      "odd number\n",
      "even number:  14\n",
      "odd number\n",
      "even number:  16\n",
      "odd number\n",
      "even number:  18\n",
      "odd number\n",
      "even number:  20\n"
     ]
    }
   ],
   "source": [
    "for x in range(2,21):\n",
    "    if x%2==0:\n",
    "        print(\"even number: \",x)\n",
    "    else:\n",
    "        print(\"odd number\")\n",
    "        "
   ]
  },
  {
   "cell_type": "code",
   "execution_count": 82,
   "id": "264394b2",
   "metadata": {},
   "outputs": [
    {
     "name": "stdout",
     "output_type": "stream",
     "text": [
      "even number count: 10\n"
     ]
    }
   ],
   "source": [
    "##program to print even number count b/w (3,23)\n",
    "even=0\n",
    "for x in range(3,23):\n",
    "    if x%2==0:\n",
    "        even=even+1\n",
    "print(\"even number count:\",even)\n",
    "        "
   ]
  },
  {
   "cell_type": "code",
   "execution_count": 83,
   "id": "dad113e2",
   "metadata": {},
   "outputs": [
    {
     "name": "stdout",
     "output_type": "stream",
     "text": [
      "even numbers : 10\n",
      "odd numbers : 10\n"
     ]
    }
   ],
   "source": [
    "odd = 0\n",
    "even = 0\n",
    "for x in range(3,23):\n",
    "        if  x % 2==0:\n",
    "             even+=1\n",
    "        else:\n",
    "             odd+=1\n",
    "print(\"even numbers :\",even)\n",
    "print(\"odd numbers :\",odd)"
   ]
  },
  {
   "cell_type": "code",
   "execution_count": 87,
   "id": "11a2db18",
   "metadata": {},
   "outputs": [
    {
     "name": "stdout",
     "output_type": "stream",
     "text": [
      "consonant\n",
      "vowel:  e\n",
      "consonant\n",
      "consonant\n",
      "vowel:  o\n",
      "consonant\n",
      "consonant\n",
      "vowel:  o\n",
      "consonant\n",
      "consonant\n",
      "consonant\n"
     ]
    }
   ],
   "source": [
    "#print the vowels in given string\n",
    "for letter in \"hello world\":\n",
    "    if letter==\"a\":\n",
    "        print(\"vowel: \",letter)\n",
    "    elif letter==\"e\":\n",
    "        print(\"vowel: \",letter)\n",
    "    elif letter==\"i\":\n",
    "        print(\"vowel: \",letter)\n",
    "    elif letter==\"o\":\n",
    "        print(\"vowel: \",letter)\n",
    "    elif letter==\"u\":\n",
    "        print(\"vowel: \",letter)\n",
    "    else:\n",
    "        print(\"consonant\")"
   ]
  },
  {
   "cell_type": "code",
   "execution_count": 100,
   "id": "b588a7de",
   "metadata": {},
   "outputs": [
    {
     "name": "stdout",
     "output_type": "stream",
     "text": [
      "consonant\n",
      "vowel:  e\n",
      "consonant\n",
      "consonant\n",
      "vowel:  o\n",
      "consonant\n",
      "consonant\n",
      "vowel:  o\n",
      "consonant\n",
      "consonant\n",
      "consonant\n",
      "vowel count:  3\n"
     ]
    }
   ],
   "source": [
    "vowel_count=0\n",
    "for letter in \"hello world\":\n",
    "    if letter==\"a\":\n",
    "        print(\"vowel: \",letter)\n",
    "        vowel_count+=1\n",
    "    elif letter==\"e\":\n",
    "        print(\"vowel: \",letter)\n",
    "        vowel_count+=1\n",
    "    elif letter==\"i\":\n",
    "        print(\"vowel: \",letter)\n",
    "        vowel_count+=1\n",
    "    elif letter==\"o\":\n",
    "        print(\"vowel: \",letter)\n",
    "        vowel_count+=1\n",
    "    elif letter==\"u\":\n",
    "        print(\"vowel: \",letter)\n",
    "        vowel_count+=1\n",
    "        \n",
    "    else:\n",
    "         print(\"consonant\")\n",
    "print(\"vowel count: \",vowel_count)            \n",
    "        "
   ]
  },
  {
   "cell_type": "code",
   "execution_count": 112,
   "id": "ef25f95c",
   "metadata": {},
   "outputs": [
    {
     "name": "stdout",
     "output_type": "stream",
     "text": [
      "consonant\n",
      "vowel:  e\n",
      "consonant\n",
      "consonant\n",
      "vowel:  o\n",
      "consonant\n",
      "consonant\n",
      "vowel:  o\n",
      "consonant\n",
      "consonant\n",
      "consonant\n",
      "vowel count:  3\n",
      "consonant count:  8\n"
     ]
    }
   ],
   "source": [
    "vowel_count=0\n",
    "consonant_count=0\n",
    "for letter in \"hello_world\":\n",
    "    if letter==\"a\":\n",
    "        print(\"vowel: \",letter)\n",
    "        vowel_count+=1\n",
    "    elif letter==\"e\":\n",
    "        print(\"vowel: \",letter)\n",
    "        vowel_count+=1\n",
    "    elif letter==\"i\":\n",
    "        print(\"vowel: \",letter)\n",
    "        vowel_count+=1\n",
    "    elif letter==\"o\":\n",
    "        print(\"vowel: \",letter)\n",
    "        vowel_count+=1\n",
    "    elif letter==\"u\":\n",
    "        print(\"vowel: \",letter)\n",
    "        vowel_count+=1    \n",
    "    else:\n",
    "         print(\"consonant\")\n",
    "         consonant_count+=1\n",
    "print(\"vowel count: \",vowel_count)   \n",
    "print(\"consonant count: \",consonant_count)\n",
    "        "
   ]
  },
  {
   "cell_type": "code",
   "execution_count": 12,
   "id": "eb610282",
   "metadata": {
    "scrolled": true
   },
   "outputs": [],
   "source": [
    "def vote(age):\n",
    "    if age>=18:\n",
    "        print(\"eligible to cast vote\")\n",
    "    else:\n",
    "        print(\"not eligible to cast vote\")"
   ]
  },
  {
   "cell_type": "code",
   "execution_count": 13,
   "id": "89317014",
   "metadata": {},
   "outputs": [
    {
     "name": "stdout",
     "output_type": "stream",
     "text": [
      "eligible to cast vote\n"
     ]
    }
   ],
   "source": [
    "vote(45)"
   ]
  },
  {
   "cell_type": "code",
   "execution_count": 20,
   "id": "456701f8",
   "metadata": {},
   "outputs": [
    {
     "ename": "SyntaxError",
     "evalue": "invalid syntax (<ipython-input-20-e3f55b9e27d8>, line 4)",
     "output_type": "error",
     "traceback": [
      "\u001b[1;36m  File \u001b[1;32m\"<ipython-input-20-e3f55b9e27d8>\"\u001b[1;36m, line \u001b[1;32m4\u001b[0m\n\u001b[1;33m    if ch=\"int\":\u001b[0m\n\u001b[1;37m         ^\u001b[0m\n\u001b[1;31mSyntaxError\u001b[0m\u001b[1;31m:\u001b[0m invalid syntax\n"
     ]
    }
   ],
   "source": [
    "ch=input(\"enter: \")\n",
    "if ((ch>='A' and ch<'z') or (ch>'a' and ch<'z')):\n",
    "    print(\"alpha\")\n",
    "    if ch=\"int\":\n",
    "        print(\"number\")\n",
    "    else:\n",
    "        print(\"may be special char or something else\")\n",
    "else:\n",
    "    print(\"not alpha\")"
   ]
  }
 ],
 "metadata": {
  "kernelspec": {
   "display_name": "Python 3",
   "language": "python",
   "name": "python3"
  },
  "language_info": {
   "codemirror_mode": {
    "name": "ipython",
    "version": 3
   },
   "file_extension": ".py",
   "mimetype": "text/x-python",
   "name": "python",
   "nbconvert_exporter": "python",
   "pygments_lexer": "ipython3",
   "version": "3.8.8"
  }
 },
 "nbformat": 4,
 "nbformat_minor": 5
}
